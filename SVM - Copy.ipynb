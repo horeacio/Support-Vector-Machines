{
 "cells": [
  {
   "cell_type": "markdown",
   "metadata": {},
   "source": [
    "# Resources\n",
    "\n",
    "## Support Vector Machine (SVM)\n",
    "* https://towardsdatascience.com/support-vector-machines-svm-c9ef22815589\n",
    "\n",
    "## Guide on Support Vector Machine (SVM) Algorithm\n",
    "* https://www.analyticsvidhya.com/blog/2021/10/support-vector-machinessvm-a-complete-guide-for-beginners/\n",
    "\n",
    "## Support Vector Machines (SVM): An Intuitive Explanation\n",
    "* https://medium.com/low-code-for-advanced-data-science/support-vector-machines-svm-an-intuitive-explanation-b084d6238106#:~:text=They%20are%20widely%20used%20in,data%20points%20into%20different%20classes.\n",
    "\n",
    "## plot_decision_regions: Visualize the decision regions of a classifier\n",
    "* https://rasbt.github.io/mlxtend/user_guide/plotting/plot_decision_regions/\n",
    "\n",
    "\n",
    "## Desmos\n",
    "* https://www.desmos.com/\n"
   ]
  },
  {
   "cell_type": "markdown",
   "metadata": {
    "id": "At5zV8I8-INc"
   },
   "source": [
    "---\n",
    "# **Introduction To Machine Learning**\n",
    "##**Supervised Learning (= classification):**\n",
    "\n",
    "*   k-Nearest Neighbor (kNN)\n",
    "*   naive Bayesian (NB)\n",
    "*   Decision Tree (DT)\n",
    "*   **Support Vector Machine (SVM)**\n",
    "---"
   ]
  },
  {
   "cell_type": "markdown",
   "metadata": {
    "id": "VmG0UXjb-INf"
   },
   "source": [
    "In Support Vector Machine we separate a data point into class attribute using hyperplane to separate our data.\n",
    "\n",
    "In this technique, we lot each data item as a point in n-dimensional space(where n is the number of features you have) with the value of a particular coordinate. Then we perform classification by finding the hyperplane that differentiates the two classes very well.\n"
   ]
  },
  {
   "cell_type": "markdown",
   "metadata": {
    "id": "9cHVRymM-INg"
   },
   "source": [
    "## <font color = #950CDF> Part 1: </font> <font color = #4854E8> Information of Dataset </font>"
   ]
  },
  {
   "cell_type": "markdown",
   "metadata": {
    "id": "aFLKzUpO-INg"
   },
   "source": [
    "<b>Diabetes Dataset:</b> This dataset is originally from the National Institute of Diabetes and Digestive and Kidney Diseases. The objective is to predict based on diagnostic measurements whether a patient has diabetes.\n",
    "<b> Attribute Information </b> <br>\n",
    "`Pregnancies:` Number of times pregnant <br>\n",
    "`Glucose:` Plasma glucose concentration a 2 hours in an oral glucose tolerance test <br>\n",
    "`BloodPressure:` Diastolic blood pressure (mm Hg) <br>\n",
    "`SkinThickness:` Triceps skin fold thickness (mm) <br>\n",
    "`Insulin:` 2-Hour serum insulin (mu U/ml) <br>\n",
    "`BMI:` Body mass index (weight in kg/(height in m)^2) <br>\n",
    "`DiabetesPedigreeFunction:` Diabetes pedigree function <br>\n",
    "`Age:` Age (years) <br>\n",
    "`Outcome:` Class variable (0 or 1) <br>\n",
    "\n",
    "https://www.kaggle.com/datasets/mathchi/diabetes-data-set"
   ]
  },
  {
   "cell_type": "markdown",
   "metadata": {
    "id": "NyRBbEEp-INh"
   },
   "source": [
    "### <font color = #27C3E5> 1.1: </font> <font color = #41EA46> Import Libraries and Dataset </font>"
   ]
  },
  {
   "cell_type": "markdown",
   "metadata": {
    "id": "aNPOYEkd-INh"
   },
   "source": [
    "#### <font color = blue> Import the Libraries"
   ]
  },
  {
   "cell_type": "code",
   "execution_count": null,
   "metadata": {
    "id": "LfwvIHmd-INh",
    "pycharm": {
     "name": "#%%\n"
    },
    "tags": []
   },
   "outputs": [],
   "source": [
    "import pandas as pd\n",
    "import numpy as np\n",
    "import matplotlib.pyplot as plt\n",
    "import seaborn as sns\n",
    "from scipy.optimize import minimize, fmin_tnc\n",
    "from sklearn.model_selection import train_test_split\n",
    "from sklearn.preprocessing import StandardScaler\n",
    "from collections import Counter"
   ]
  },
  {
   "cell_type": "markdown",
   "metadata": {
    "id": "GNwGboiF-INi"
   },
   "source": [
    "#### <font color = blue>Import the Dataset"
   ]
  },
  {
   "cell_type": "code",
   "execution_count": null,
   "metadata": {
    "id": "N8KJamSL-INi",
    "outputId": "cdd2f014-c371-4424-8b38-e3074faa5975",
    "pycharm": {
     "name": "#%%\n"
    },
    "tags": []
   },
   "outputs": [],
   "source": [
    "df = pd.read_csv(\"diabetes.csv\")\n",
    "df.head(3)"
   ]
  },
  {
   "cell_type": "markdown",
   "metadata": {
    "id": "E3euSroQ-INj"
   },
   "source": [
    "### <font color = #27C3E5> 1.2: </font> <font color = #41EA46> Data Summary and Visualization </font>"
   ]
  },
  {
   "cell_type": "markdown",
   "metadata": {
    "id": "q8hqzOsV-INj"
   },
   "source": [
    "#### <font color = blue>Data shape"
   ]
  },
  {
   "cell_type": "code",
   "execution_count": null,
   "metadata": {
    "id": "Xs3z2MYL-INj",
    "outputId": "4833f05b-0d33-4afa-b993-d43aac116632",
    "pycharm": {
     "name": "#%%\n"
    },
    "tags": []
   },
   "outputs": [],
   "source": [
    "print(\"Number of columns:\", df.shape[1])\n",
    "print(\"Number of rows: \", df.shape[0])"
   ]
  },
  {
   "cell_type": "markdown",
   "metadata": {
    "id": "nRrOgorx-INj"
   },
   "source": [
    "#### <font color = blue>Data Info"
   ]
  },
  {
   "cell_type": "code",
   "execution_count": null,
   "metadata": {
    "id": "rNPiCFqt-INj",
    "outputId": "c67c9edf-74ac-4560-80cb-2778aa0f7f0d",
    "tags": []
   },
   "outputs": [],
   "source": [
    "df.info()"
   ]
  },
  {
   "cell_type": "markdown",
   "metadata": {
    "id": "63VU89Q5-INj"
   },
   "source": [
    "#### <font color = blue>Data Description"
   ]
  },
  {
   "cell_type": "code",
   "execution_count": null,
   "metadata": {
    "id": "bLLN7sy7-INj",
    "outputId": "8cf5ca50-4a3e-4c10-96af-f85ae4ddc85f",
    "tags": []
   },
   "outputs": [],
   "source": [
    "df.describe()"
   ]
  },
  {
   "cell_type": "markdown",
   "metadata": {
    "id": "xz1MI_Y4-INj"
   },
   "source": [
    "#### <font color = blue> Visualize the Label Class"
   ]
  },
  {
   "cell_type": "code",
   "execution_count": null,
   "metadata": {
    "id": "Wtk1Q1km-INk",
    "outputId": "2c5e57e6-7c01-4a47-d0ea-10b4ce0c85e6",
    "pycharm": {
     "name": "#%%\n"
    },
    "tags": []
   },
   "outputs": [],
   "source": [
    "plt.style.use('fivethirtyeight')\n",
    "diabetes = df[df['Outcome'] == 0].shape[0]\n",
    "non_diabetes = df[df['Outcome'] == 1].shape[0]\n",
    "\n",
    "label = [diabetes, non_diabetes]\n",
    "plt.pie(label, labels = ['diabetes', 'non-diabetes'], shadow = True, wedgeprops = {'edgecolor': 'black'},\n",
    "        autopct = '%4.1f%%', startangle = 90, colors = ['red', 'green'])\n",
    "plt.tight_layout()\n",
    "plt.show()"
   ]
  },
  {
   "cell_type": "markdown",
   "metadata": {
    "id": "f1_-Oze9-INk"
   },
   "source": [
    "#### <font color = blue> Realtionship of Features"
   ]
  },
  {
   "cell_type": "code",
   "execution_count": null,
   "metadata": {
    "id": "W4kVOx5K-INk",
    "outputId": "5f4cddbc-fe5c-43d7-de1a-9ad8cc67563e",
    "pycharm": {
     "name": "#%%\n"
    },
    "tags": []
   },
   "outputs": [],
   "source": [
    "sns.pairplot(df, hue = 'Outcome')  # blue = diabetes, red = non-diabetes class"
   ]
  },
  {
   "cell_type": "markdown",
   "metadata": {
    "id": "kUX1FFFf-INk"
   },
   "source": [
    "#### <font color = blue> Check the Correaltion of Features"
   ]
  },
  {
   "cell_type": "code",
   "execution_count": null,
   "metadata": {
    "id": "-BaD4ycC-INk",
    "outputId": "f8a49ad4-08d6-4057-de6e-b8e6c36f343c",
    "tags": []
   },
   "outputs": [],
   "source": [
    "# Define the figure size\n",
    "plt.figure(figsize = (16, 9))\n",
    "\n",
    "# Cutomize the annot\n",
    "annot_kws={'fontsize':10,                      # To change the size of the font\n",
    "           'fontstyle':'italic',               # To change the style of font \n",
    "           'fontfamily': 'serif',              # To change the family of font \n",
    "           'alpha':1 }                         # To change the transparency of the text  \n",
    "\n",
    "\n",
    "# Customize the cbar\n",
    "cbar_kws = {\"shrink\":1,                        # To change the size of the color bar\n",
    "            'extend':'min',                    # To change the end of the color bar like pointed\n",
    "            'extendfrac':0.1,                  # To adjust the extension of the color bar\n",
    "            \"drawedges\":True,                  # To draw lines (edges) on the color bar\n",
    "           }\n",
    "\n",
    "# take upper correlation matrix\n",
    "matrix = np.triu(df.corr())\n",
    "\n",
    "# Generate heatmap correlation\n",
    "ax = sns.heatmap(df.corr(), mask = matrix, cmap = 'rainbow', annot = True, linewidth = 1.5 ,annot_kws= annot_kws, cbar_kws=cbar_kws)\n",
    "\n",
    "# Set the title etc\n",
    "plt.title('Correlation Matrix', fontsize = 20)\n",
    "\n",
    "# Set the size of text\n",
    "sns.set(font_scale = 1.2)"
   ]
  },
  {
   "cell_type": "markdown",
   "metadata": {
    "id": "_ctZIUTD-INk"
   },
   "source": [
    "## <font color = #950CDF> Part 2: </font> <font color = #4854E8> Data Preprocessing </font>"
   ]
  },
  {
   "cell_type": "markdown",
   "metadata": {
    "id": "58uG7ETP-INk"
   },
   "source": [
    "### <font color = #27C3E5> 2.1: </font> <font color = #41EA46> Define Predictor and target Attribute </font>"
   ]
  },
  {
   "cell_type": "code",
   "execution_count": null,
   "metadata": {
    "id": "kupFrRTc-INk",
    "pycharm": {
     "name": "#%%\n"
    },
    "tags": []
   },
   "outputs": [],
   "source": [
    "X = df.iloc[:, :-1]\n",
    "Y = df.iloc[:, -1]"
   ]
  },
  {
   "cell_type": "markdown",
   "metadata": {
    "id": "t3P82-IS-INk"
   },
   "source": [
    "#### <font color = blue> Predictor Attribute"
   ]
  },
  {
   "cell_type": "code",
   "execution_count": null,
   "metadata": {
    "id": "Yia8pOx3-INl",
    "outputId": "2df29019-b858-467b-e3d1-40cb0c3e1891",
    "tags": []
   },
   "outputs": [],
   "source": [
    "X.head()"
   ]
  },
  {
   "cell_type": "markdown",
   "metadata": {
    "id": "BU6_tsut-INl"
   },
   "source": [
    "#### <font color = blue> Target Attribute"
   ]
  },
  {
   "cell_type": "code",
   "execution_count": null,
   "metadata": {
    "id": "BRc2tkcD-INl",
    "outputId": "3031abc2-fd1b-466d-ca08-d7b2b5f998a7",
    "tags": []
   },
   "outputs": [],
   "source": [
    "Y.head()"
   ]
  },
  {
   "cell_type": "markdown",
   "metadata": {
    "id": "00P-U34H-INl"
   },
   "source": [
    "### <font color = #27C3E5> 2.2: </font> <font color = #41EA46> Dealing with Missing Value </font>"
   ]
  },
  {
   "cell_type": "markdown",
   "metadata": {
    "id": "BhmFZ86M-INl"
   },
   "source": [
    "#### <font color = blue> Check the Missing Value"
   ]
  },
  {
   "cell_type": "code",
   "execution_count": null,
   "metadata": {
    "id": "eteVI2mh-INl",
    "outputId": "208cd64d-c033-4f5a-c39c-0147dcdd4e5b",
    "pycharm": {
     "name": "#%%\n"
    },
    "tags": []
   },
   "outputs": [],
   "source": [
    "df.isnull().sum()"
   ]
  },
  {
   "cell_type": "markdown",
   "metadata": {
    "id": "Y8gN2o24-INl"
   },
   "source": [
    "### <font color = #27C3E5> 2.3: </font> <font color = #41EA46> Feature Scaling </font>"
   ]
  },
  {
   "cell_type": "markdown",
   "metadata": {
    "id": "w6tIi2i5-INl"
   },
   "source": [
    "#### <font color = blue> Apply Standard Scaler"
   ]
  },
  {
   "cell_type": "code",
   "execution_count": null,
   "metadata": {
    "id": "Km6eewsp-INl",
    "pycharm": {
     "name": "#%%\n"
    },
    "tags": []
   },
   "outputs": [],
   "source": [
    "sc_X = StandardScaler()\n",
    "X = sc_X.fit_transform(X)"
   ]
  },
  {
   "cell_type": "markdown",
   "metadata": {
    "id": "SS6Nj-Cj-INl"
   },
   "source": [
    "#### <font color = blue> After apply Standard Scaler"
   ]
  },
  {
   "cell_type": "code",
   "execution_count": null,
   "metadata": {
    "id": "Is_5qYKh-INl",
    "outputId": "56d2ad05-4db6-43f1-9c8a-391354830acd",
    "tags": []
   },
   "outputs": [],
   "source": [
    "pd.DataFrame(X).head()"
   ]
  },
  {
   "cell_type": "markdown",
   "metadata": {
    "id": "08cZg59V-INl"
   },
   "source": [
    "### <font color = #27C3E5> 2.4: </font> <font color = #41EA46> Split the Data into Train and Test </font>"
   ]
  },
  {
   "cell_type": "code",
   "execution_count": null,
   "metadata": {
    "id": "nZtcLDQj-INl",
    "pycharm": {
     "name": "#%%\n"
    },
    "tags": []
   },
   "outputs": [],
   "source": [
    "X_train, X_test, y_train, y_test = train_test_split(X, Y, test_size = 0.2, random_state = 0)"
   ]
  },
  {
   "cell_type": "markdown",
   "metadata": {
    "id": "A3004_Ch-INl"
   },
   "source": [
    "#### <font color = blue> Training Data"
   ]
  },
  {
   "cell_type": "code",
   "execution_count": null,
   "metadata": {
    "id": "C_uZK-m6-INm",
    "outputId": "621a6046-51a9-48b1-d07d-df4e6a77b509",
    "pycharm": {
     "name": "#%%\n"
    },
    "tags": []
   },
   "outputs": [],
   "source": [
    "print(\"X_test\", X_train.shape)\n",
    "print(\"X_test\", y_train.shape)"
   ]
  },
  {
   "cell_type": "markdown",
   "metadata": {
    "id": "CGg_GY45-INm"
   },
   "source": [
    "#### <font color = blue> Testing Data"
   ]
  },
  {
   "cell_type": "code",
   "execution_count": null,
   "metadata": {
    "id": "KVviQSCI-INm",
    "outputId": "75db5a14-33ad-44fa-dc3c-1a2ec3be0dfa",
    "pycharm": {
     "name": "#%%\n"
    },
    "tags": []
   },
   "outputs": [],
   "source": [
    "print(\"X_test\", X_test.shape)\n",
    "print(\"X_test\", y_test.shape)"
   ]
  },
  {
   "cell_type": "markdown",
   "metadata": {
    "id": "rz5aYUFI-INm"
   },
   "source": [
    "## <font color = #950CDF> Part 4: </font> <font color = #4854E8> Build Support Vector Machine  </font>\n",
    "In this part, we build Support Vector Machine Classification Model using Scikit-Learn"
   ]
  },
  {
   "cell_type": "markdown",
   "metadata": {
    "id": "yWMXf6q9-INm"
   },
   "source": [
    "#### <font color = blue> Import Model from Sklearn"
   ]
  },
  {
   "cell_type": "code",
   "execution_count": null,
   "metadata": {
    "id": "J97tuRvy-INm",
    "tags": []
   },
   "outputs": [],
   "source": [
    "from sklearn.svm import SVC"
   ]
  },
  {
   "cell_type": "markdown",
   "metadata": {
    "id": "AFPBdT0R-INm"
   },
   "source": [
    "#### <font color = blue> Initialize the Model"
   ]
  },
  {
   "cell_type": "code",
   "execution_count": null,
   "metadata": {
    "id": "yZgrdV9I-INm",
    "tags": []
   },
   "outputs": [],
   "source": [
    "clf = SVC(\n",
    "          C=1.0,                          # The regularization parameter\n",
    "          kernel='linear',                # The kernel type used \n",
    "       #  degree=3,                       # Degree of polynomial function \n",
    "          gamma='scale',                  # The kernel coefficient\n",
    "          coef0=0.0,                      # If kernel = 'poly'/'sigmoid'\n",
    "          shrinking=True,                 # To use shrinking heuristic\n",
    "          probability=False,              # Enable probability estimates\n",
    "          tol=0.001,                      # Stopping crierion\n",
    "          cache_size=200,                 # Size of kernel cache\n",
    "          class_weight=None,              # The weight of each class\n",
    "          verbose=False,                  # Enable verbose output\n",
    "          max_iter=- 1,                   # Hard limit on iterations\n",
    "          decision_function_shape='ovr',  # One-vs-rest or one-vs-one\n",
    "          break_ties=False,               # How to handle breaking ties\n",
    "          random_state=None               # Random state of the model\n",
    ")"
   ]
  },
  {
   "cell_type": "markdown",
   "metadata": {
    "id": "dECEhxyF-INm"
   },
   "source": [
    "#### <font color = blue> Fit the Model"
   ]
  },
  {
   "cell_type": "code",
   "execution_count": null,
   "metadata": {
    "id": "yl1GdFgk-INm",
    "outputId": "c26dc754-c347-465c-fbc5-5fd06d48261d",
    "tags": []
   },
   "outputs": [],
   "source": [
    "clf.fit(X_train, y_train)"
   ]
  },
  {
   "cell_type": "markdown",
   "metadata": {
    "id": "DEmeU0hZ-INm"
   },
   "source": [
    "#### <font color = blue> Predict the Test Data</font>"
   ]
  },
  {
   "cell_type": "code",
   "execution_count": null,
   "metadata": {
    "id": "EWUDJnhx-INm",
    "tags": []
   },
   "outputs": [],
   "source": [
    "y_pred = clf.predict(X_test)"
   ]
  },
  {
   "cell_type": "markdown",
   "metadata": {
    "id": "bSkCWnsQ-INn"
   },
   "source": [
    "## <font color = #950CDF> Part 4: </font> <font color = #4854E8> Evaluate the Result </font>\n",
    "In this part, we evaluate the Support Vector Machine. first we make confusion matrix and we visualize the score following (\"Accuracy\", \"Precision\", \"TPR\", \"FPR\", \"F-Score\", \"Specificity\", \"Error\" and \"Roc Area\")."
   ]
  },
  {
   "cell_type": "markdown",
   "metadata": {
    "id": "t_9V0PKE-INn"
   },
   "source": [
    "### <font color = #27C3E5> 4.1: </font> <font color = #41EA46> Confusion Matrix</font>"
   ]
  },
  {
   "cell_type": "code",
   "execution_count": null,
   "metadata": {
    "id": "jl_ax9aM-INn",
    "outputId": "e4ec7b83-d9b8-4166-dd64-f8ed29ddb566",
    "tags": []
   },
   "outputs": [],
   "source": [
    "from sklearn.metrics import confusion_matrix\n",
    "confusion_matrix_ = confusion_matrix(y_pred, y_test)\n",
    "\n",
    "#[row, column]\n",
    "TP = confusion_matrix_[1, 1]        \n",
    "TN = confusion_matrix_[0, 0]           \n",
    "FP = confusion_matrix_[0, 1]           \n",
    "FN = confusion_matrix_[1, 0]\n",
    "\n",
    "group_names = ['TN','FP','FN','TP']\n",
    "\n",
    "group_counts = [\"{0:0.0f}\".format(value) for value in confusion_matrix_.flatten()]\n",
    "\n",
    "group_percentages = [\"{0:.2%}\".format(value) for value in confusion_matrix_.flatten()/np.sum(confusion_matrix_)]\n",
    "\n",
    "labels = [f\"{v1}\\n{v2}\\n{v3}\" for v1, v2, v3 in zip(group_names,group_counts,group_percentages)]\n",
    "\n",
    "labels = np.asarray(labels).reshape(2,2)\n",
    "\n",
    "sns.heatmap(confusion_matrix_, annot=labels, fmt='', cmap='Greens')"
   ]
  },
  {
   "cell_type": "markdown",
   "metadata": {
    "id": "ss5mbH0W-INn"
   },
   "source": [
    "### <font color = #27C3E5> 4.2: </font> <font color = #41EA46>  Evaluate the Results </font>"
   ]
  },
  {
   "cell_type": "code",
   "execution_count": null,
   "metadata": {
    "id": "yL5ATeuQ-INn",
    "tags": []
   },
   "outputs": [],
   "source": [
    "from sklearn.metrics import accuracy_score, precision_score, recall_score, f1_score, mean_absolute_error, roc_auc_score"
   ]
  },
  {
   "cell_type": "markdown",
   "metadata": {
    "id": "0p_jfRz7-INn"
   },
   "source": [
    "#### <font color = blue>4.2.1: Calculate the Results"
   ]
  },
  {
   "cell_type": "code",
   "execution_count": null,
   "metadata": {
    "id": "edgUyZ7z-INn",
    "outputId": "c9c5f87f-017b-4a9e-ccf5-c22f50953b7b",
    "tags": []
   },
   "outputs": [],
   "source": [
    "# Accuracy Score\n",
    "Accuracy = accuracy_score(y_pred, y_test)\n",
    "print('Accuracy Score:', Accuracy) \n",
    "\n",
    "# Precision Score\n",
    "Precision = precision_score(y_pred, y_test)\n",
    "print('Precision Score:', Precision)   \n",
    "\n",
    "# True positive Rate (TPR) or Sensitivity or Recall\n",
    "TPR = recall_score(y_pred, y_test)\n",
    "print('True positive Rate:', TPR)             \n",
    "\n",
    "# False positive Rate (FPR)\n",
    "FPR = FP / float(TN + FP)\n",
    "print('False positive Rate', FPR)                       \n",
    "\n",
    "# F1 Score or F-Measure or F-Score\n",
    "F1 = f1_score(y_pred, y_test)\n",
    "print('F1 Score:', F1)                 \n",
    "\n",
    "# Specificity\n",
    "Specificity = TN / (TN + FP)\n",
    "print('Specificity:', Specificity)                    \n",
    "\n",
    "# Mean Absolute Error\n",
    "Error = mean_absolute_error(y_pred, y_test)\n",
    "print('Mean Absolute Error:', Error)   \n",
    "\n",
    "# ROC Area\n",
    "Roc = roc_auc_score(y_pred, y_test)\n",
    "print('ROC Area:', Roc) "
   ]
  },
  {
   "cell_type": "markdown",
   "metadata": {
    "id": "tnAiB59C-INn"
   },
   "source": [
    "#### <font color = blue>4.2.2: Visualize the Results"
   ]
  },
  {
   "cell_type": "code",
   "execution_count": null,
   "metadata": {
    "id": "PhIubcpd-INn",
    "outputId": "8c51d03e-bc44-4fc7-fd3a-fbb7de7c41ad",
    "tags": []
   },
   "outputs": [],
   "source": [
    "plt.figure(figsize = (12, 5))\n",
    "\n",
    "result = [Accuracy, Precision, TPR, FPR, F1, Specificity, Error, Roc]\n",
    "label = [\"Accuracy\", \"Precision\", \"TPR\", \"FPR\", \"F-Score\", \"Specificity\", \"Error\", \"Roc Area\"]\n",
    "colors=[ 'red', 'green', 'blue', 'darkgoldenrod', 'orange', 'purple', 'brown', 'darkcyan']\n",
    "\n",
    "plt.bar(label, result, color = colors, edgecolor='black')\n",
    "plt.show()"
   ]
  },
  {
   "cell_type": "code",
   "execution_count": null,
   "metadata": {},
   "outputs": [],
   "source": []
  }
 ],
 "metadata": {
  "colab": {
   "provenance": []
  },
  "kernelspec": {
   "display_name": "Python 3 (ipykernel)",
   "language": "python",
   "name": "python3"
  },
  "language_info": {
   "codemirror_mode": {
    "name": "ipython",
    "version": 3
   },
   "file_extension": ".py",
   "mimetype": "text/x-python",
   "name": "python",
   "nbconvert_exporter": "python",
   "pygments_lexer": "ipython3",
   "version": "3.10.12"
  }
 },
 "nbformat": 4,
 "nbformat_minor": 4
}
